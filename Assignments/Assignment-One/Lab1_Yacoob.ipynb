{
 "cells": [
  {
   "cell_type": "code",
   "execution_count": null,
   "id": "db86d9be",
   "metadata": {},
   "outputs": [],
   "source": [
    "\"\"\"\n",
    "Name: Benyamain Yacoob\n",
    "Course: Intro to Data Mining\n",
    "Professor: Dr. Bani Taan\n",
    "Date: September 14, 2023\n",
    "\"\"\""
   ]
  },
  {
   "cell_type": "code",
   "execution_count": null,
   "id": "395c0630",
   "metadata": {},
   "outputs": [],
   "source": [
    "\"\"\"\n",
    "Question 1\n",
    "a) Continuous, Ratio\n",
    "Brightness can take on infinite number of values.\n",
    "The difference in each interval of light meter reading holds a significance,\n",
    "as well as 0 holding an importance as it indicates no light is present.\n",
    "\n",
    "\n",
    "b) Discrete, Ordinal\n",
    "There can be only 3 winners in the competition so it does not take on a range\n",
    "of values.\n",
    "Each of the medals being awarded represent their respective placing in the\n",
    "competition.\n",
    "\n",
    "\n",
    "c) Continuous, Interval\n",
    "Height above sea level can take on infinite number of values.\n",
    "If the sea level had a true zero point, then it would be considered a ratio,\n",
    "but because it lacks that, making sea level being interpreted\n",
    "on an interval scale.\n",
    "\n",
    "\n",
    "d) Discrete, Ratio\n",
    "You cannot have a floating number of patients, humans are counted in whole\n",
    "numbers.\n",
    "There is a true zero point (there can theoretically be 0 patients) with\n",
    "indications of intervals of patients present influence the productivity of\n",
    "the hospital.\n",
    "\n",
    "\n",
    "e) Discrete, Ordinal\n",
    "Sure, it could be argued that floating shoe sizes such as 7.5 could be\n",
    "looked at as continuous, but not necessarily true since there is no fraction\n",
    "of a shoe size.\n",
    "The shoe sizes have an order, with larger shoe sizes to be considered bigger.\n",
    "\"\"\""
   ]
  },
  {
   "cell_type": "code",
   "execution_count": 4,
   "id": "9539e2c6",
   "metadata": {},
   "outputs": [
    {
     "name": "stdout",
     "output_type": "stream",
     "text": [
      "Item 1:  14.5\n",
      "Item 2:  25.8\n",
      "Item 3:  7.4\n",
      "Subtotal:  47.699999999999996\n",
      "Sales tax:  3.339\n",
      "Total:  51.038999999999994\n"
     ]
    }
   ],
   "source": [
    "# Question 2\n",
    "item_one, item_two, item_three = 14.5, 25.8, 7.4\n",
    "SALES_TAX = 0.07 # constant\n",
    "# printing items\n",
    "print(\"Item 1: \", item_one)\n",
    "print(\"Item 2: \", item_two)\n",
    "print(\"Item 3: \", item_three)\n",
    "\n",
    "# store summation and print\n",
    "summation_of_items = item_one + item_two + item_three\n",
    "print(\"Subtotal: \", summation_of_items)\n",
    "\n",
    "# get the sales tax and print\n",
    "sales_tax_of_items = summation_of_items * SALES_TAX\n",
    "print(\"Sales tax: \", sales_tax_of_items)\n",
    "\n",
    "# print total\n",
    "print(\"Total: \", summation_of_items + sales_tax_of_items)"
   ]
  }
 ],
 "metadata": {
  "kernelspec": {
   "display_name": "Python 3 (ipykernel)",
   "language": "python",
   "name": "python3"
  },
  "language_info": {
   "codemirror_mode": {
    "name": "ipython",
    "version": 3
   },
   "file_extension": ".py",
   "mimetype": "text/x-python",
   "name": "python",
   "nbconvert_exporter": "python",
   "pygments_lexer": "ipython3",
   "version": "3.10.9"
  }
 },
 "nbformat": 4,
 "nbformat_minor": 5
}
