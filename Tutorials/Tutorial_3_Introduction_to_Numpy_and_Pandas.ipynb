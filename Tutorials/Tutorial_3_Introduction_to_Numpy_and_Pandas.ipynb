{
  "cells": [
    {
      "cell_type": "markdown",
      "metadata": {
        "id": "v00owNcwg5aj"
      },
      "source": [
        "# Tutorial 3: Introduction to Numpy and Pandas\n",
        "\n",
        "<b>Dr. Shadi Bani Taan</b>"
      ]
    },
    {
      "cell_type": "markdown",
      "metadata": {
        "id": "udcMHq_ig5ak"
      },
      "source": [
        "## 3.1 Introduction to Numpy\n",
        "\n",
        "Numpy, which stands for numerical Python, is a Python library package to support numerical computations. The basic data structure in numpy is a multi-dimensional array object called ndarray. Numpy provides a suite of functions that can efficiently manipulate elements of the ndarray. \n",
        "\n",
        "### 3.1.1 Creating ndarray\n",
        "\n",
        "An ndarray can be created from a list or tuple object."
      ]
    },
    {
      "cell_type": "code",
      "execution_count": 1,
      "metadata": {
        "colab": {
          "base_uri": "https://localhost:8080/"
        },
        "id": "ugccWTm_g5al",
        "outputId": "bd1ae893-028e-48cd-b9b7-d570f8dbb183"
      },
      "outputs": [
        {
          "name": "stdout",
          "output_type": "stream",
          "text": [
            "[1 2 3 4 5]\n",
            "#Dimensions = 1\n",
            "Dimension = (5,)\n",
            "Size = 5\n",
            "Array type = int32\n"
          ]
        }
      ],
      "source": [
        "import numpy as np\n",
        "\n",
        "oneDim = np.array([1,2,3,4,5])   # a 1-dimensional array (vector)\n",
        "print(oneDim)\n",
        "print(\"#Dimensions =\", oneDim.ndim)\n",
        "print(\"Dimension =\", oneDim.shape) # the number of elements in each dimension (1 dimension, 5 elements)\n",
        "print(\"Size =\", oneDim.size) # number of elements in the array.\n",
        "print(\"Array type =\", oneDim.dtype)"
      ]
    },
    {
      "cell_type": "code",
      "execution_count": 3,
      "metadata": {
        "colab": {
          "base_uri": "https://localhost:8080/"
        },
        "id": "_f49qNeYdM6k",
        "outputId": "cb090ca7-ce39-4f13-a581-8b1a7ff73736"
      },
      "outputs": [
        {
          "name": "stdout",
          "output_type": "stream",
          "text": [
            "[[1 2]\n",
            " [3 4]\n",
            " [5 6]\n",
            " [7 8]]\n",
            "#Dimensions = 2\n",
            "Dimension = (4, 2)\n",
            "Size = 8\n",
            "Array type = int32\n"
          ]
        }
      ],
      "source": [
        "twoDim = np.array([[1,2],[3,4],[5,6],[7,8]])  # a two-dimensional array (matrix)\n",
        "print(twoDim)\n",
        "print(\"#Dimensions =\", twoDim.ndim)\n",
        "print(\"Dimension =\", twoDim.shape)\n",
        "print(\"Size =\", twoDim.size)\n",
        "print(\"Array type =\", twoDim.dtype)"
      ]
    },
    {
      "cell_type": "code",
      "execution_count": 55,
      "metadata": {
        "colab": {
          "base_uri": "https://localhost:8080/"
        },
        "id": "9Y9i96t_gCEp",
        "outputId": "4954cc7d-b0c9-41f0-ce0c-6ea67bb34a6a"
      },
      "outputs": [
        {
          "name": "stdout",
          "output_type": "stream",
          "text": [
            "[['1' 'a' '3.0']\n",
            " ['2' 'b' '3.5']]\n",
            "#Dimensions = 2\n",
            "Dimension = (2, 3)\n",
            "Size = 6\n"
          ]
        }
      ],
      "source": [
        "arrFromTuple = np.array([(1,'a',3.0),(2,'b',3.5)])  # create ndarray from tuple\n",
        "print(arrFromTuple)\n",
        "print(\"#Dimensions =\", arrFromTuple.ndim)\n",
        "print(\"Dimension =\", arrFromTuple.shape)\n",
        "print(\"Size =\", arrFromTuple.size)"
      ]
    },
    {
      "cell_type": "markdown",
      "metadata": {
        "id": "Lk4LlWQgg5am"
      },
      "source": [
        "There are several built-in functions in numpy that can be used to create ndarrays"
      ]
    },
    {
      "cell_type": "code",
      "execution_count": 6,
      "metadata": {
        "colab": {
          "base_uri": "https://localhost:8080/"
        },
        "id": "s4Dvy5JKg5am",
        "outputId": "2e357a03-2c72-4368-de35-9959cbad1571"
      },
      "outputs": [
        {
          "name": "stdout",
          "output_type": "stream",
          "text": [
            "[0.11944336 0.06120736]\n",
            "[ 1.40028942  1.04933153  0.98576573  1.20437881 -2.83766057]\n",
            "[-10  -8  -6  -4  -2   0   2   4   6   8]\n",
            "[[ 0  1  2  3]\n",
            " [ 4  5  6  7]\n",
            " [ 8  9 10 11]]\n"
          ]
        }
      ],
      "source": [
        "print(np.random.rand(2))      # random numbers from a uniform distribution between [0,1]\n",
        "print(np.random.randn(5))     # random numbers from a normal distribution\n",
        "print(np.arange(-10,10,2))    # similar to range, but returns ndarray instead of list\n",
        "print(np.arange(12).reshape(3,4))  # reshape to a matrix (reshape From 1-D to 2-D)"
      ]
    },
    {
      "cell_type": "code",
      "execution_count": 10,
      "metadata": {
        "colab": {
          "base_uri": "https://localhost:8080/"
        },
        "id": "OqQ9CuiBg5an",
        "outputId": "b2cff54c-48be-4284-d8e7-a68b018a10cc"
      },
      "outputs": [
        {
          "name": "stdout",
          "output_type": "stream",
          "text": [
            "[[0. 0. 0.]\n",
            " [0. 0. 0.]]\n",
            "[[1. 1.]\n",
            " [1. 1.]\n",
            " [1. 1.]]\n",
            "[[1. 0. 0.]\n",
            " [0. 1. 0.]\n",
            " [0. 0. 1.]]\n"
          ]
        }
      ],
      "source": [
        "print(np.zeros((2,3)))        # a matrix of zeros\n",
        "print(np.ones((3,2)))         # a matrix of ones\n",
        "print(np.eye(3))              # a 3 x 3 identity matrix"
      ]
    },
    {
      "cell_type": "markdown",
      "metadata": {
        "id": "q32hzjJ9g5an"
      },
      "source": [
        "## 3.1.2 Element-wise Operations\n",
        "\n",
        "You can apply standard operators such as addition and multiplication on each element of the ndarray."
      ]
    },
    {
      "cell_type": "code",
      "execution_count": 5,
      "metadata": {
        "colab": {
          "base_uri": "https://localhost:8080/"
        },
        "id": "J0SDYUEXg5an",
        "outputId": "a73f3675-4c7d-4386-a21b-0a9f6e3ca5b8"
      },
      "outputs": [
        {
          "name": "stdout",
          "output_type": "stream",
          "text": [
            "[2 3 4 5 6]\n",
            "[0 1 2 3 4]\n",
            "[ 2  4  6  8 10]\n",
            "[0 1 1 2 2]\n",
            "[ 1  4  9 16 25]\n",
            "[1 0 1 0 1]\n",
            "[1.         0.5        0.33333333 0.25       0.2       ]\n"
          ]
        }
      ],
      "source": [
        "x = np.array([1,2,3,4,5])\n",
        "\n",
        "print(x + 1)      # addition\n",
        "print(x - 1)      # subtraction\n",
        "print(x * 2)      # multiplication\n",
        "print(x // 2)     # integer division\n",
        "print(x ** 2)     # square\n",
        "print(x % 2)      # modulo  \n",
        "print(1 / x)      # division"
      ]
    },
    {
      "cell_type": "code",
      "execution_count": 4,
      "metadata": {
        "colab": {
          "base_uri": "https://localhost:8080/"
        },
        "id": "Z938KroJg5ao",
        "outputId": "635ac540-0231-4ade-f591-9549c0da14a7"
      },
      "outputs": [
        {
          "name": "stdout",
          "output_type": "stream",
          "text": [
            "[ 3  6  9 12 15]\n",
            "[1 2 3 4 5]\n",
            "[ 2  8 18 32 50]\n",
            "[2. 2. 2. 2. 2.]\n",
            "[2 2 2 2 2]\n",
            "[     2     16    216   4096 100000]\n"
          ]
        }
      ],
      "source": [
        "x = np.array([2,4,6,8,10])\n",
        "y = np.array([1,2,3,4,5])\n",
        "\n",
        "print(x + y)\n",
        "print(x - y)\n",
        "print(x * y)\n",
        "print(x / y)\n",
        "print(x // y)\n",
        "print(x ** y)"
      ]
    },
    {
      "cell_type": "markdown",
      "metadata": {
        "id": "gynTitbog5ao"
      },
      "source": [
        "## 3.1.3 Indexing and Slicing\n",
        "\n",
        "There are various ways to select certain elements with an ndarray."
      ]
    },
    {
      "cell_type": "code",
      "execution_count": 8,
      "metadata": {
        "colab": {
          "base_uri": "https://localhost:8080/"
        },
        "id": "nwB8BFfbg5ao",
        "outputId": "886d2a77-81c8-4e03-cc39-778a4b3d1a24"
      },
      "outputs": [
        {
          "name": "stdout",
          "output_type": "stream",
          "text": [
            "first x =  [-5 -4 -3 -2 -1  0  1  2  3  4]\n",
            "first y =  [-2 -1]\n",
            "second y =  [1000 1000]\n",
            "second x =  [  -5   -4   -3 1000 1000    0    1    2    3    4]\n",
            "first z =  [1000 1000]\n",
            "second z =  [500 500]\n",
            "third x =  [  -5   -4   -3 1000 1000    0    1    2    3    4]\n"
          ]
        }
      ],
      "source": [
        "x = np.arange(-5,5)\n",
        "print('first x = ', x)\n",
        "\n",
        "y = x[3:5]     # y is a slice, i.e., pointer to a subarray in x\n",
        "print('first y = ', y)\n",
        "y[:] = 1000    # modifying the value of y will change x\n",
        "print('second y = ', y)\n",
        "print('second x = ', x)\n",
        "\n",
        "z = x[3:5].copy()   # makes a copy of the subarray\n",
        "print('first z = ', z)\n",
        "z[:] = 500          # modifying the value of z will not affect x\n",
        "print('second z = ', z)\n",
        "print('third x = ', x)"
      ]
    },
    {
      "cell_type": "code",
      "execution_count": 56,
      "metadata": {
        "colab": {
          "base_uri": "https://localhost:8080/"
        },
        "id": "nlFppTdtg5ao",
        "outputId": "d3763318-6a62-4c33-cfe1-27bdf6f64deb"
      },
      "outputs": [
        {
          "name": "stdout",
          "output_type": "stream",
          "text": [
            "[[1, 2, 3, 4], [5, 6, 7, 8], [9, 10, 11, 12]]\n",
            "[9, 10, 11, 12]\n",
            "[[ 1  2  3  4]\n",
            " [ 5  6  7  8]\n",
            " [ 9 10 11 12]]\n",
            "row 3 [ 9 10 11 12]\n",
            "row 3 [ 9 10 11 12]\n",
            "row 3 [ 9 10 11 12]\n",
            "third column [ 3  7 11]\n",
            "[[3 4]\n",
            " [7 8]]\n"
          ]
        }
      ],
      "source": [
        "my2dlist = [[1,2,3,4],[5,6,7,8],[9,10,11,12]]   # a 2-dim list\n",
        "print(my2dlist)\n",
        "print(my2dlist[2])        # access the third sublist\n",
        "\n",
        "my2darr = np.array(my2dlist)\n",
        "print(my2darr)\n",
        "print(\"row 3\", my2darr[2][:])      # access the third row\n",
        "print(\"row 3\", my2darr[2,:])       # access the third row\n",
        "print(\"row 3\", my2darr[:][2])      # access the third row (similar to 2d list)\n",
        "print(\"third column\",my2darr[:,2])       # access the third column\n",
        "print(my2darr[:2,2:])     # access the first two rows & last two columns"
      ]
    },
    {
      "cell_type": "markdown",
      "metadata": {
        "id": "eLVaJXYAg5ap"
      },
      "source": [
        "More indexing examples."
      ]
    },
    {
      "cell_type": "code",
      "execution_count": 26,
      "metadata": {
        "colab": {
          "base_uri": "https://localhost:8080/"
        },
        "id": "DHzPgCLUg5ap",
        "outputId": "a6f4b120-8e54-4656-af26-f3290e92944b"
      },
      "outputs": [
        {
          "name": "stdout",
          "output_type": "stream",
          "text": [
            "[[ 1  2  3]\n",
            " [ 4  5  6]\n",
            " [ 7  8  9]\n",
            " [10 11 12]]\n",
            "selected indices [[ 7  8  9]\n",
            " [ 4  5  6]\n",
            " [ 1  2  3]\n",
            " [10 11 12]]\n",
            "[ 1  3  4  8 12]\n"
          ]
        }
      ],
      "source": [
        "my2darr = np.arange(1,13,1).reshape(4,3)\n",
        "print(my2darr)\n",
        "\n",
        "indices = [2,1,0,3]    # selected row indices\n",
        "print(\"selected indices\", my2darr[indices,:])\n",
        "\n",
        "rowIndex = [0,0,1,2,3]     # row index into my2darr\n",
        "columnIndex = [0,2,0,1,2]  # column index into my2darr\n",
        "print(my2darr[rowIndex,columnIndex])"
      ]
    },
    {
      "cell_type": "markdown",
      "metadata": {
        "id": "0f5HGSl_g5aq"
      },
      "source": [
        "## 3.1.4 Numpy Arithmetic and Statistical Functions\n",
        "\n",
        "There are many built-in mathematical functions available for manipulating elements of nd-array."
      ]
    },
    {
      "cell_type": "code",
      "execution_count": 11,
      "metadata": {
        "colab": {
          "base_uri": "https://localhost:8080/"
        },
        "id": "-pnb-Ddpg5aq",
        "outputId": "0dba7167-6a0f-4aa3-cb7c-77a5abf7cea2"
      },
      "outputs": [
        {
          "name": "stdout",
          "output_type": "stream",
          "text": [
            "[-1.4  0.4 -3.2  2.5  3.4]\n",
            "[1.4 0.4 3.2 2.5 3.4]\n",
            "[1.18321596 0.63245553 1.78885438 1.58113883 1.84390889]\n",
            "[-1.  1. -1.  1.  1.]\n",
            "[ 0.24659696  1.4918247   0.0407622  12.18249396 29.96410005]\n",
            "[-3.2 -1.4  0.4  2.5  3.4]\n"
          ]
        }
      ],
      "source": [
        "y = np.array([-1.4, 0.4, -3.2, 2.5, 3.4])    # generate a random vector\n",
        "print(y)\n",
        "\n",
        "print(np.abs(y))          # convert to absolute values\n",
        "print(np.sqrt(abs(y)))    # apply square root to each element\n",
        "print(np.sign(y))         # get the sign of each element\n",
        "print(np.exp(y))          # apply exponentiation\n",
        "print(np.sort(y))         # sort array"
      ]
    },
    {
      "cell_type": "code",
      "execution_count": null,
      "metadata": {
        "id": "dsPdBshSg5ar"
      },
      "outputs": [],
      "source": [
        "x = np.arange(-2,3)\n",
        "y = np.random.randn(5)\n",
        "print(x)\n",
        "print(y)\n",
        "\n",
        "print(np.add(x,y))           # element-wise addition       x + y\n",
        "print(np.subtract(x,y))      # element-wise subtraction    x - y\n",
        "print(np.multiply(x,y))      # element-wise multiplication x * y\n",
        "print(np.divide(x,y))        # element-wise division       x / y\n",
        "print(np.maximum(x,y))       # element-wise maximum        max(x,y)"
      ]
    },
    {
      "cell_type": "code",
      "execution_count": null,
      "metadata": {
        "id": "etDb4OEsg5ar"
      },
      "outputs": [],
      "source": [
        "y = np.array([-3.2, -1.4, 0.4, 2.5, 3.4])    # generate a random vector\n",
        "print(y)\n",
        "\n",
        "print(\"Min =\", np.min(y))             # min \n",
        "print(\"Max =\", np.max(y))             # max \n",
        "print(\"Average =\", np.mean(y))        # mean/average\n",
        "print(\"Std deviation =\", np.std(y))   # standard deviation\n",
        "print(\"Sum =\", np.sum(y))             # sum "
      ]
    },
    {
      "cell_type": "markdown",
      "metadata": {
        "id": "mD1WXfBHg5ar"
      },
      "source": [
        "## 3.1.5 Numpy linear algebra\n",
        "\n",
        "Numpy provides many functions to support linear algebra operations."
      ]
    },
    {
      "cell_type": "code",
      "execution_count": 30,
      "metadata": {
        "colab": {
          "base_uri": "https://localhost:8080/"
        },
        "id": "7okrKa8_g5ar",
        "outputId": "3bc72fdb-5960-44e9-e852-ee622effde1a"
      },
      "outputs": [
        {
          "name": "stdout",
          "output_type": "stream",
          "text": [
            "X:  [[ 0.51624387 -0.78571652 -0.62434021]\n",
            " [ 1.01123181  2.01096586  1.30555826]]\n",
            "X transpose: [[ 0.51624387  1.01123181]\n",
            " [-0.78571652  2.01096586]\n",
            " [-0.62434021  1.30555826]]\n",
            "[-1.46496307  1.36470673 -0.81534981]\n",
            "[-1.31949516  0.1984747 ]\n",
            "[[ 1.27365889 -1.8731194 ]\n",
            " [-1.8731194   6.77105585]]\n"
          ]
        }
      ],
      "source": [
        "X = np.random.randn(2,3)    # create a 2 x 3 random matrix\n",
        "print(\"X: \",X)\n",
        "print(\"X transpose:\", X.T)             # matrix transpose operation X^T\n",
        "\n",
        "y = np.random.randn(3) # random vector \n",
        "print(y)\n",
        "print(X.dot(y))        # matrix-vector multiplication  X * y\n",
        "print(X.dot(X.T))      # matrix-matrix multiplication  X * X^T"
      ]
    },
    {
      "cell_type": "markdown",
      "metadata": {
        "id": "rafqlSk_g5as"
      },
      "source": [
        "## 3.2 Introduction to Pandas\n",
        "\n",
        "Pandas provide two convenient data structures for storing and manipulating data--Series and DataFrame.<br> A Series is similar to a one-dimensional array whereas a DataFrame is more similar to representing a matrix or a spreadsheet table.  \n",
        "\n",
        "### 3.2.1 Series\n",
        "\n",
        "* A Series is a single-dimensional array structures that stores homogenous data i.e., data of a single type.\n",
        "* A Series object consists of a one-dimensional array of values, whose elements can be referenced using an index array.\n",
        "* A Series object can be created from a list, a numpy array, or a Python dictionary. You can apply most of the numpy functions on the Series object.\n"
      ]
    },
    {
      "cell_type": "code",
      "execution_count": 33,
      "metadata": {
        "colab": {
          "base_uri": "https://localhost:8080/"
        },
        "id": "qW18noSqg5as",
        "outputId": "3441bf1d-ddb1-4434-bbe2-c8ec3e9726c6"
      },
      "outputs": [
        {
          "name": "stdout",
          "output_type": "stream",
          "text": [
            "0    3.1\n",
            "1    2.4\n",
            "2   -1.7\n",
            "3    0.2\n",
            "4   -2.9\n",
            "5    4.5\n",
            "dtype: float64\n",
            "Values= [ 3.1  2.4 -1.7  0.2 -2.9  4.5]\n",
            "Index= RangeIndex(start=0, stop=6, step=1)\n"
          ]
        }
      ],
      "source": [
        "from pandas import Series\n",
        "\n",
        "s = Series([3.1, 2.4, -1.7, 0.2, -2.9, 4.5])   # creating a series from a list\n",
        "print(s)\n",
        "print('Values=', s.values)     # display values of the Series\n",
        "print('Index=', s.index)       # display indices of the Series"
      ]
    },
    {
      "cell_type": "code",
      "execution_count": 34,
      "metadata": {
        "colab": {
          "base_uri": "https://localhost:8080/"
        },
        "id": "-mjo-1Cjg5as",
        "outputId": "9ef7427f-3fc1-4aba-d967-eefbd1425b6e"
      },
      "outputs": [
        {
          "name": "stdout",
          "output_type": "stream",
          "text": [
            "0    1.719995\n",
            "1   -0.153993\n",
            "2    2.370376\n",
            "3   -0.589321\n",
            "4   -0.198099\n",
            "5    0.055443\n",
            "dtype: float64\n",
            "Values= [ 1.71999507 -0.15399302  2.37037574 -0.58932056 -0.19809886  0.05544345]\n",
            "Index= RangeIndex(start=0, stop=6, step=1)\n"
          ]
        }
      ],
      "source": [
        "import numpy as np\n",
        "\n",
        "s2 = Series(np.random.randn(6))  # creating a series from a numpy ndarray\n",
        "print(s2)\n",
        "print('Values=', s2.values)   # display values of the Series\n",
        "print('Index=', s2.index)     # display indices of the Series"
      ]
    },
    {
      "cell_type": "code",
      "execution_count": 35,
      "metadata": {
        "colab": {
          "base_uri": "https://localhost:8080/"
        },
        "id": "JD3vJJiXg5at",
        "outputId": "c4e65cc2-d636-453e-d242-6b37939b0888"
      },
      "outputs": [
        {
          "name": "stdout",
          "output_type": "stream",
          "text": [
            "Jan 1    1.2\n",
            "Jan 2    2.5\n",
            "Jan 3   -2.2\n",
            "Jan 4    3.1\n",
            "Jan 5   -0.8\n",
            "Jan 6   -3.2\n",
            "dtype: float64\n",
            "Values= [ 1.2  2.5 -2.2  3.1 -0.8 -3.2]\n",
            "Index= Index(['Jan 1', 'Jan 2', 'Jan 3', 'Jan 4', 'Jan 5', 'Jan 6'], dtype='object')\n"
          ]
        }
      ],
      "source": [
        "s3 = Series([1.2,2.5,-2.2,3.1,-0.8,-3.2], \n",
        "            index = ['Jan 1','Jan 2','Jan 3','Jan 4','Jan 5','Jan 6',])\n",
        "print(s3)\n",
        "print('Values=', s3.values)   # display values of the Series\n",
        "print('Index=', s3.index)     # display indices of the Series"
      ]
    },
    {
      "cell_type": "code",
      "execution_count": 27,
      "metadata": {
        "colab": {
          "base_uri": "https://localhost:8080/"
        },
        "id": "9wpmBts5g5at",
        "outputId": "48715675-818b-4dde-e3b2-f59ba53bee30"
      },
      "outputs": [
        {
          "name": "stdout",
          "output_type": "stream",
          "text": [
            "MI       Lansing\n",
            "CA    Sacramento\n",
            "TX        Austin\n",
            "MN       St Paul\n",
            "dtype: object\n",
            "Values= ['Lansing' 'Sacramento' 'Austin' 'St Paul']\n",
            "Index= Index(['MI', 'CA', 'TX', 'MN'], dtype='object')\n"
          ]
        }
      ],
      "source": [
        "capitals = {'MI': 'Lansing', 'CA': 'Sacramento', 'TX': 'Austin', 'MN': 'St Paul'}\n",
        "\n",
        "s4 = Series(capitals)   # creating a series from dictionary object\n",
        "print(s4)\n",
        "print('Values=', s4.values)   # display values of the Series\n",
        "print('Index=', s4.index)     # display indices of the Series"
      ]
    },
    {
      "cell_type": "code",
      "execution_count": 38,
      "metadata": {
        "colab": {
          "base_uri": "https://localhost:8080/"
        },
        "id": "mctBhoDOg5at",
        "outputId": "bd883ba1-62a3-4283-e9bb-3621565acd57"
      },
      "outputs": [
        {
          "name": "stdout",
          "output_type": "stream",
          "text": [
            "Jan 1    1.2\n",
            "Jan 2    2.5\n",
            "Jan 3   -2.2\n",
            "Jan 4    3.1\n",
            "Jan 5   -0.8\n",
            "Jan 6   -3.2\n",
            "dtype: float64\n",
            "\n",
            "s3[2]= -2.2\n",
            "s3['Jan 3']= -2.2\n",
            "\n",
            "s3[1:3]=\n",
            "Jan 2    2.5\n",
            "Jan 3   -2.2\n",
            "dtype: float64\n"
          ]
        }
      ],
      "source": [
        "s3 = Series([1.2,2.5,-2.2,3.1,-0.8,-3.2], \n",
        "            index = ['Jan 1','Jan 2','Jan 3','Jan 4','Jan 5','Jan 6',])\n",
        "print(s3)\n",
        "\n",
        "# Accessing elements of a Series\n",
        "\n",
        "print('\\ns3[2]=', s3[2])        # display third element of the Series\n",
        "print('s3[\\'Jan 3\\']=', s3['Jan 3'])   # indexing element of a Series \n",
        "\n",
        "print('\\ns3[1:3]=')             # display a slice of the Series\n",
        "print(s3[1:3])"
      ]
    },
    {
      "cell_type": "code",
      "execution_count": 39,
      "metadata": {
        "colab": {
          "base_uri": "https://localhost:8080/"
        },
        "id": "-1W45HaJg5at",
        "outputId": "fbddc5e7-3165-4d6e-9182-be12119c2668"
      },
      "outputs": [
        {
          "name": "stdout",
          "output_type": "stream",
          "text": [
            "shape = (6,)\n",
            "size = 6\n"
          ]
        }
      ],
      "source": [
        "print('shape =', s3.shape)  # get the dimension of the Series\n",
        "print('size =', s3.size)    # get the # of elements of the Series"
      ]
    },
    {
      "cell_type": "code",
      "execution_count": 40,
      "metadata": {
        "colab": {
          "base_uri": "https://localhost:8080/"
        },
        "id": "vWJyjC3og5au",
        "outputId": "4fdf3d9b-839a-4711-a49a-4deec7275067"
      },
      "outputs": [
        {
          "name": "stdout",
          "output_type": "stream",
          "text": [
            "Jan 1    1.2\n",
            "Jan 2    2.5\n",
            "Jan 4    3.1\n",
            "dtype: float64\n"
          ]
        }
      ],
      "source": [
        "print(s3[s3 > 0])   # applying filter to select elements of the Series"
      ]
    },
    {
      "cell_type": "code",
      "execution_count": 31,
      "metadata": {
        "colab": {
          "base_uri": "https://localhost:8080/"
        },
        "id": "jrKIthj6g5au",
        "outputId": "7b412470-47d5-4565-f974-d8fad7604f29"
      },
      "outputs": [
        {
          "name": "stdout",
          "output_type": "stream",
          "text": [
            "Jan 1    5.2\n",
            "Jan 2    6.5\n",
            "Jan 3    1.8\n",
            "Jan 4    7.1\n",
            "Jan 5    3.2\n",
            "Jan 6    0.8\n",
            "dtype: float64\n",
            "Jan 1    0.300\n",
            "Jan 2    0.625\n",
            "Jan 3   -0.550\n",
            "Jan 4    0.775\n",
            "Jan 5   -0.200\n",
            "Jan 6   -0.800\n",
            "dtype: float64\n"
          ]
        }
      ],
      "source": [
        "print(s3 + 4)       # applying scalar operation on a numeric Series\n",
        "print(s3 / 4)    "
      ]
    },
    {
      "cell_type": "markdown",
      "metadata": {
        "id": "y7k-tZy6g5au"
      },
      "source": [
        "### 3.2.2 DataFrame\n",
        "\n",
        "A DataFrame object is a tabular, spreadsheet-like data structure containing a collection of columns, each of which can be of different types (numeric, string, boolean, etc). Unlike Series, a DataFrame has distinct row and column indices. There are many ways to create a DataFrame object (e.g., from a dictionary, list of tuples, or even numpy's ndarrays)."
      ]
    },
    {
      "cell_type": "code",
      "execution_count": 10,
      "metadata": {
        "colab": {
          "base_uri": "https://localhost:8080/",
          "height": 171
        },
        "id": "jj7kF6Jhg5au",
        "outputId": "42986ffb-08d9-4d2b-b379-dc486353ff7e"
      },
      "outputs": [
        {
          "data": {
            "text/html": [
              "<div>\n",
              "<style scoped>\n",
              "    .dataframe tbody tr th:only-of-type {\n",
              "        vertical-align: middle;\n",
              "    }\n",
              "\n",
              "    .dataframe tbody tr th {\n",
              "        vertical-align: top;\n",
              "    }\n",
              "\n",
              "    .dataframe thead th {\n",
              "        text-align: right;\n",
              "    }\n",
              "</style>\n",
              "<table border=\"1\" class=\"dataframe\">\n",
              "  <thead>\n",
              "    <tr style=\"text-align: right;\">\n",
              "      <th></th>\n",
              "      <th>make</th>\n",
              "      <th>model</th>\n",
              "      <th>MSRP</th>\n",
              "    </tr>\n",
              "  </thead>\n",
              "  <tbody>\n",
              "    <tr>\n",
              "      <th>0</th>\n",
              "      <td>Ford</td>\n",
              "      <td>Taurus</td>\n",
              "      <td>27595</td>\n",
              "    </tr>\n",
              "    <tr>\n",
              "      <th>1</th>\n",
              "      <td>Honda</td>\n",
              "      <td>Accord</td>\n",
              "      <td>23570</td>\n",
              "    </tr>\n",
              "    <tr>\n",
              "      <th>2</th>\n",
              "      <td>Toyota</td>\n",
              "      <td>Camry</td>\n",
              "      <td>23495</td>\n",
              "    </tr>\n",
              "    <tr>\n",
              "      <th>3</th>\n",
              "      <td>Tesla</td>\n",
              "      <td>Model S</td>\n",
              "      <td>68000</td>\n",
              "    </tr>\n",
              "  </tbody>\n",
              "</table>\n",
              "</div>"
            ],
            "text/plain": [
              "     make    model   MSRP\n",
              "0    Ford   Taurus  27595\n",
              "1   Honda   Accord  23570\n",
              "2  Toyota    Camry  23495\n",
              "3   Tesla  Model S  68000"
            ]
          },
          "execution_count": 10,
          "metadata": {},
          "output_type": "execute_result"
        }
      ],
      "source": [
        "from pandas import DataFrame\n",
        "\n",
        "cars = {'make': ['Ford', 'Honda', 'Toyota', 'Tesla'],\n",
        "       'model': ['Taurus', 'Accord', 'Camry', 'Model S'],\n",
        "       'MSRP': [27595, 23570, 23495, 68000]}          \n",
        "carData = DataFrame(cars)   # creating DataFrame from dictionary\n",
        "carData                     # display the table"
      ]
    },
    {
      "cell_type": "code",
      "execution_count": 11,
      "metadata": {
        "colab": {
          "base_uri": "https://localhost:8080/"
        },
        "id": "mDCOdga8g5av",
        "outputId": "eba26bc6-0b61-48a9-c0b3-c0d78249a8e2"
      },
      "outputs": [
        {
          "name": "stdout",
          "output_type": "stream",
          "text": [
            "RangeIndex(start=0, stop=4, step=1)\n",
            "Index(['make', 'model', 'MSRP'], dtype='object')\n"
          ]
        }
      ],
      "source": [
        "print(carData.index)       # print the row indices\n",
        "print(carData.columns)     # print the column indices"
      ]
    },
    {
      "cell_type": "code",
      "execution_count": 12,
      "metadata": {
        "colab": {
          "base_uri": "https://localhost:8080/",
          "height": 171
        },
        "id": "2G8ic2Zzg5av",
        "outputId": "d4ea5b83-8009-437f-e5e5-286483eb1296"
      },
      "outputs": [
        {
          "data": {
            "text/html": [
              "<div>\n",
              "<style scoped>\n",
              "    .dataframe tbody tr th:only-of-type {\n",
              "        vertical-align: middle;\n",
              "    }\n",
              "\n",
              "    .dataframe tbody tr th {\n",
              "        vertical-align: top;\n",
              "    }\n",
              "\n",
              "    .dataframe thead th {\n",
              "        text-align: right;\n",
              "    }\n",
              "</style>\n",
              "<table border=\"1\" class=\"dataframe\">\n",
              "  <thead>\n",
              "    <tr style=\"text-align: right;\">\n",
              "      <th></th>\n",
              "      <th>make</th>\n",
              "      <th>model</th>\n",
              "      <th>MSRP</th>\n",
              "      <th>year</th>\n",
              "      <th>dealership</th>\n",
              "    </tr>\n",
              "  </thead>\n",
              "  <tbody>\n",
              "    <tr>\n",
              "      <th>1</th>\n",
              "      <td>Ford</td>\n",
              "      <td>Taurus</td>\n",
              "      <td>27595</td>\n",
              "      <td>2018</td>\n",
              "      <td>Courtesy Ford</td>\n",
              "    </tr>\n",
              "    <tr>\n",
              "      <th>2</th>\n",
              "      <td>Honda</td>\n",
              "      <td>Accord</td>\n",
              "      <td>23570</td>\n",
              "      <td>2018</td>\n",
              "      <td>Capital Honda</td>\n",
              "    </tr>\n",
              "    <tr>\n",
              "      <th>3</th>\n",
              "      <td>Toyota</td>\n",
              "      <td>Camry</td>\n",
              "      <td>23495</td>\n",
              "      <td>2018</td>\n",
              "      <td>Spartan Toyota</td>\n",
              "    </tr>\n",
              "    <tr>\n",
              "      <th>4</th>\n",
              "      <td>Tesla</td>\n",
              "      <td>Model S</td>\n",
              "      <td>68000</td>\n",
              "      <td>2018</td>\n",
              "      <td>N/A</td>\n",
              "    </tr>\n",
              "  </tbody>\n",
              "</table>\n",
              "</div>"
            ],
            "text/plain": [
              "     make    model   MSRP  year      dealership\n",
              "1    Ford   Taurus  27595  2018   Courtesy Ford\n",
              "2   Honda   Accord  23570  2018   Capital Honda\n",
              "3  Toyota    Camry  23495  2018  Spartan Toyota\n",
              "4   Tesla  Model S  68000  2018             N/A"
            ]
          },
          "execution_count": 12,
          "metadata": {},
          "output_type": "execute_result"
        }
      ],
      "source": [
        "carData2 = DataFrame(cars, index = [1,2,3,4])  # change the row index\n",
        "carData2['year'] = 2018    # add column with same value\n",
        "carData2['dealership'] = ['Courtesy Ford','Capital Honda','Spartan Toyota','N/A']\n",
        "carData2                   # display table"
      ]
    },
    {
      "cell_type": "markdown",
      "metadata": {
        "id": "zftjWG25g5av"
      },
      "source": [
        "Creating DataFrame from a list of tuples."
      ]
    },
    {
      "cell_type": "code",
      "execution_count": 13,
      "metadata": {
        "colab": {
          "base_uri": "https://localhost:8080/",
          "height": 233
        },
        "id": "z7EZ4YAdg5av",
        "outputId": "427ded34-39a8-4495-d59d-f9e53e62beea"
      },
      "outputs": [
        {
          "data": {
            "text/html": [
              "<div>\n",
              "<style scoped>\n",
              "    .dataframe tbody tr th:only-of-type {\n",
              "        vertical-align: middle;\n",
              "    }\n",
              "\n",
              "    .dataframe tbody tr th {\n",
              "        vertical-align: top;\n",
              "    }\n",
              "\n",
              "    .dataframe thead th {\n",
              "        text-align: right;\n",
              "    }\n",
              "</style>\n",
              "<table border=\"1\" class=\"dataframe\">\n",
              "  <thead>\n",
              "    <tr style=\"text-align: right;\">\n",
              "      <th></th>\n",
              "      <th>year</th>\n",
              "      <th>temp</th>\n",
              "      <th>precip</th>\n",
              "    </tr>\n",
              "  </thead>\n",
              "  <tbody>\n",
              "    <tr>\n",
              "      <th>1</th>\n",
              "      <td>2011</td>\n",
              "      <td>45.1</td>\n",
              "      <td>32.4</td>\n",
              "    </tr>\n",
              "    <tr>\n",
              "      <th>2</th>\n",
              "      <td>2012</td>\n",
              "      <td>42.4</td>\n",
              "      <td>34.5</td>\n",
              "    </tr>\n",
              "    <tr>\n",
              "      <th>3</th>\n",
              "      <td>2013</td>\n",
              "      <td>47.2</td>\n",
              "      <td>39.2</td>\n",
              "    </tr>\n",
              "    <tr>\n",
              "      <th>4</th>\n",
              "      <td>2014</td>\n",
              "      <td>44.2</td>\n",
              "      <td>31.4</td>\n",
              "    </tr>\n",
              "    <tr>\n",
              "      <th>5</th>\n",
              "      <td>2015</td>\n",
              "      <td>39.9</td>\n",
              "      <td>29.8</td>\n",
              "    </tr>\n",
              "    <tr>\n",
              "      <th>6</th>\n",
              "      <td>2016</td>\n",
              "      <td>41.5</td>\n",
              "      <td>36.7</td>\n",
              "    </tr>\n",
              "  </tbody>\n",
              "</table>\n",
              "</div>"
            ],
            "text/plain": [
              "   year  temp  precip\n",
              "1  2011  45.1    32.4\n",
              "2  2012  42.4    34.5\n",
              "3  2013  47.2    39.2\n",
              "4  2014  44.2    31.4\n",
              "5  2015  39.9    29.8\n",
              "6  2016  41.5    36.7"
            ]
          },
          "execution_count": 13,
          "metadata": {},
          "output_type": "execute_result"
        }
      ],
      "source": [
        "tuplelist = [(2011,45.1,32.4),(2012,42.4,34.5),(2013,47.2,39.2),\n",
        "              (2014,44.2,31.4),(2015,39.9,29.8),(2016,41.5,36.7)]\n",
        "columnNames = ['year','temp','precip']\n",
        "weatherData = DataFrame(tuplelist, columns=columnNames, index=[1,2,3,4,5,6])\n",
        "weatherData"
      ]
    },
    {
      "cell_type": "markdown",
      "metadata": {
        "id": "k1uTxtIMg5aw"
      },
      "source": [
        "Creating DataFrame from numpy ndarray"
      ]
    },
    {
      "cell_type": "code",
      "execution_count": 12,
      "metadata": {
        "colab": {
          "base_uri": "https://localhost:8080/"
        },
        "id": "Vw5Y6hmEg5aw",
        "outputId": "20bc58eb-9d58-4eec-d6b7-31b24f114d21"
      },
      "outputs": [
        {
          "name": "stdout",
          "output_type": "stream",
          "text": [
            "          x1        x2        x3\n",
            "v1  0.990109  0.089774  1.420799\n",
            "v2 -0.653840  1.660507 -0.176564\n",
            "v3 -0.674726 -0.768856 -0.354946\n",
            "v4 -0.147208 -0.672745 -0.548397\n",
            "v5 -1.607483  0.676470 -1.676444\n",
            "          x1\n",
            "v1  0.990109\n",
            "-0.17656384850123746\n",
            "          x2        x3\n",
            "v2  1.660507 -0.176564\n",
            "v3 -0.768856 -0.354946\n"
          ]
        }
      ],
      "source": [
        "import numpy as np\n",
        "\n",
        "npdata = np.random.randn(5,3)  # create a 5 by 3 random matrix\n",
        "columnNames = ['x1','x2','x3']\n",
        "rowNames = ['v1','v2','v3','v4','v5']\n",
        "data = DataFrame(npdata, index = rowNames, columns=columnNames)\n",
        "print(data)\n",
        "data.loc[['v1','v2'],:]\n",
        "\n",
        "# .loc[] the function selects the data by labels of rows or columns.\n",
        "print(data.loc[['v1'],['x1']]) # retrieving row named 'v1', column named 'x1'\n",
        "\n",
        "# iloc[ ] is used for selection based on position. It is similar to loc[] indexer but it takes only integer values to make selections.\n",
        "print(data.iloc[1,2])      # retrieving second row, third column\n",
        "\n",
        "# accessing a slice of the DataFrame\n",
        "print(data.iloc[1:3,1:3])"
      ]
    },
    {
      "cell_type": "markdown",
      "metadata": {
        "id": "tHYgMRSDg5ax"
      },
      "source": [
        "The elements of a DataFrame can be accessed in many ways."
      ]
    },
    {
      "cell_type": "markdown",
      "metadata": {
        "id": "rPkSr3DSg5az"
      },
      "source": [
        "### 3.2.3 Arithmetic Operations"
      ]
    },
    {
      "cell_type": "code",
      "execution_count": 51,
      "metadata": {
        "colab": {
          "base_uri": "https://localhost:8080/"
        },
        "id": "OEXIcwt9g5az",
        "outputId": "aa3cc134-e82a-4afd-b42b-04471c8777fa"
      },
      "outputs": [
        {
          "name": "stdout",
          "output_type": "stream",
          "text": [
            "         x1        x2        x3\n",
            "0 -0.924972  0.088453  1.897823\n",
            "1 -0.056519 -0.417261 -0.024445\n",
            "2  0.702482 -2.188033  1.117382\n",
            "3 -1.339030  2.274110  0.638500\n",
            "4  0.080841 -1.424960  0.755171\n",
            "Data transpose operation:\n",
            "           0         1         2        3         4\n",
            "x1 -0.924972 -0.056519  0.702482 -1.33903  0.080841\n",
            "x2  0.088453 -0.417261 -2.188033  2.27411 -1.424960\n",
            "x3  1.897823 -0.024445  1.117382  0.63850  0.755171\n",
            "Addition:\n",
            "         x1        x2        x3\n",
            "0  3.075028  4.088453  5.897823\n",
            "1  3.943481  3.582739  3.975555\n",
            "2  4.702482  1.811967  5.117382\n",
            "3  2.660970  6.274110  4.638500\n",
            "4  4.080841  2.575040  4.755171\n",
            "Multiplication:\n",
            "          x1         x2         x3\n",
            "0  -9.249718   0.884529  18.978226\n",
            "1  -0.565195  -4.172611  -0.244447\n",
            "2   7.024818 -21.880334  11.173821\n",
            "3 -13.390303  22.741103   6.385000\n",
            "4   0.808409 -14.249597   7.551709\n"
          ]
        }
      ],
      "source": [
        "print(data)\n",
        "\n",
        "print('Data transpose operation:')\n",
        "print(data.T)    # transpose operation\n",
        "\n",
        "print('Addition:')\n",
        "print(data + 4)    # addition operation\n",
        "\n",
        "print('Multiplication:')\n",
        "print(data * 10)   # multiplication operation"
      ]
    },
    {
      "cell_type": "code",
      "execution_count": 52,
      "metadata": {
        "colab": {
          "base_uri": "https://localhost:8080/"
        },
        "id": "87ZkUQtZg5az",
        "outputId": "cdb9f9e9-e81e-4f49-f211-bfb344375644"
      },
      "outputs": [
        {
          "name": "stdout",
          "output_type": "stream",
          "text": [
            "data =\n",
            "         x1        x2        x3\n",
            "0 -0.924972  0.088453  1.897823\n",
            "1 -0.056519 -0.417261 -0.024445\n",
            "2  0.702482 -2.188033  1.117382\n",
            "3 -1.339030  2.274110  0.638500\n",
            "4  0.080841 -1.424960  0.755171\n",
            "\n",
            "data2 =\n",
            "         x1        x2        x3\n",
            "0 -0.790838  0.866584  0.227547\n",
            "1  0.573901 -2.482975 -0.626245\n",
            "2  1.092818 -1.146424 -0.501450\n",
            "3  1.176830 -0.443005  0.359190\n",
            "4 -1.976991 -0.480053 -1.159900\n",
            "\n",
            "data + data2 = \n",
            "         x1        x2        x3\n",
            "0 -1.715810  0.955037  2.125370\n",
            "1  0.517382 -2.900236 -0.650689\n",
            "2  1.795300 -3.334458  0.615932\n",
            "3 -0.162200  1.831105  0.997690\n",
            "4 -1.896150 -1.905013 -0.404729\n",
            "\n",
            "data * data2 = \n",
            "         x1        x2        x3\n",
            "0  0.731503  0.076652  0.431844\n",
            "1 -0.032437  1.036049  0.015308\n",
            "2  0.767685  2.508415 -0.560311\n",
            "3 -1.575811 -1.007442  0.229343\n",
            "4 -0.159822  0.684056 -0.875923\n"
          ]
        }
      ],
      "source": [
        "print('data =')\n",
        "print(data)\n",
        "\n",
        "columnNames = ['x1','x2','x3']\n",
        "data2 = DataFrame(np.random.randn(5,3), columns=columnNames)\n",
        "print('\\ndata2 =')\n",
        "print(data2)\n",
        "\n",
        "print('\\ndata + data2 = ')\n",
        "print(data.add(data2))\n",
        "\n",
        "print('\\ndata * data2 = ')\n",
        "print(data.mul(data2))"
      ]
    },
    {
      "cell_type": "code",
      "execution_count": 53,
      "metadata": {
        "colab": {
          "base_uri": "https://localhost:8080/"
        },
        "id": "aH2qxYuXg5az",
        "outputId": "eba7f5c1-f7df-430b-e1b1-bf4ccb0c6199"
      },
      "outputs": [
        {
          "name": "stdout",
          "output_type": "stream",
          "text": [
            "         x1        x2        x3\n",
            "0  0.924972  0.088453  1.897823\n",
            "1  0.056519  0.417261  0.024445\n",
            "2  0.702482  2.188033  1.117382\n",
            "3  1.339030  2.274110  0.638500\n",
            "4  0.080841  1.424960  0.755171\n",
            "\n",
            "Maximum value per column:\n",
            "x1    0.702482\n",
            "x2    2.274110\n",
            "x3    1.897823\n",
            "dtype: float64\n",
            "\n",
            "Minimum value per row:\n",
            "0   -0.924972\n",
            "1   -0.417261\n",
            "2   -2.188033\n",
            "3   -1.339030\n",
            "4   -1.424960\n",
            "dtype: float64\n",
            "\n",
            "Sum of values per column:\n",
            "x1   -1.537199\n",
            "x2   -1.667691\n",
            "x3    4.384431\n",
            "dtype: float64\n",
            "\n",
            "Average value per row:\n",
            "0    0.353768\n",
            "1   -0.166075\n",
            "2   -0.122723\n",
            "3    0.524527\n",
            "4   -0.196316\n",
            "dtype: float64\n",
            "\n",
            "Calculate max - min per row\n",
            "0    2.822794\n",
            "1    0.392816\n",
            "2    3.305416\n",
            "3    3.613141\n",
            "4    2.180131\n",
            "dtype: float64\n"
          ]
        }
      ],
      "source": [
        "print(data.abs())    # get the absolute value for each element\n",
        "\n",
        "print('\\nMaximum value per column:')\n",
        "print(data.max())    # get maximum value for each column\n",
        "\n",
        "print('\\nMinimum value per row:')\n",
        "print(data.min(axis=1))    # get minimum value for each row\n",
        "\n",
        "print('\\nSum of values per column:')\n",
        "print(data.sum())    # get sum of values for each column\n",
        "\n",
        "print('\\nAverage value per row:')\n",
        "print(data.mean(axis=1))    # get average value for each row\n",
        "\n",
        "print('\\nCalculate max - min per row')\n",
        "f = lambda x: x.max() - x.min()\n",
        "print(data.apply(f, axis=1))"
      ]
    }
  ],
  "metadata": {
    "colab": {
      "name": "Tutorial 3: Introduction to Numpy and Pandas.ipynb",
      "provenance": []
    },
    "kernelspec": {
      "display_name": "Python 3",
      "language": "python",
      "name": "python3"
    },
    "language_info": {
      "codemirror_mode": {
        "name": "ipython",
        "version": 3
      },
      "file_extension": ".py",
      "mimetype": "text/x-python",
      "name": "python",
      "nbconvert_exporter": "python",
      "pygments_lexer": "ipython3",
      "version": "3.11.4"
    }
  },
  "nbformat": 4,
  "nbformat_minor": 0
}
