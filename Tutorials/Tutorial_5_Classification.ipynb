{
  "nbformat": 4,
  "nbformat_minor": 0,
  "metadata": {
    "kernelspec": {
      "display_name": "Python 3",
      "language": "python",
      "name": "python3"
    },
    "language_info": {
      "codemirror_mode": {
        "name": "ipython",
        "version": 3
      },
      "file_extension": ".py",
      "mimetype": "text/x-python",
      "name": "python",
      "nbconvert_exporter": "python",
      "pygments_lexer": "ipython3",
      "version": "3.6.3"
    },
    "colab": {
      "name": "Tutorial 5_Classification.ipynb",
      "provenance": []
    }
  },
  "cells": [
    {
      "cell_type": "markdown",
      "metadata": {
        "id": "h5dEe-7_9y1z"
      },
      "source": [
        "# Tutorial 5: Classification\n",
        "<h3>Dr. Shadi Bani Taan</h3>\n",
        "The following tutorial contains Python examples for solving classification problems. You should refer to the Chapters 3 and 4 of the \"Introduction to Data Mining\" book to understand some of the concepts introduced in this tutorial. \n",
        "\n",
        "Classification is the task of predicting a nominal-valued attribute (known as class label) based on the values of other attributes (known as predictor variables). The goals for this tutorial are as follows:\n",
        "1. To provide examples of using different classification techniques from the scikit-learn library package.\n",
        "2. To demonstrate the problem of model overfitting.\n",
        "\n",
        "\n"
      ]
    },
    {
      "cell_type": "markdown",
      "metadata": {
        "id": "DI1-KGlZ9y10"
      },
      "source": [
        "## 5.1 Vertebrate Dataset\n",
        "\n",
        "We use a variation of the vertebrate data described in Example 3.1 of Chapter 3. Each vertebrate is classified into one of 5 categories: mammals, reptiles, birds, fishes, and amphibians, based on a set of explanatory attributes (predictor variables). Except for \"name\", the rest of the attributes have been converted into a *one hot encoding* binary representation. To illustrate this, we will first load the data into a Pandas DataFrame object and display its content."
      ]
    },
    {
      "cell_type": "code",
      "metadata": {
        "colab": {
          "base_uri": "https://localhost:8080/",
          "height": 515
        },
        "id": "bYZWTRpU9y11",
        "outputId": "c4579545-47e5-44f2-9cf2-579871f7396c"
      },
      "source": [
        "import pandas as pd\n",
        "\n",
        "data = pd.read_csv('vertebrate.csv',header='infer')\n",
        "data"
      ],
      "execution_count": 1,
      "outputs": [
        {
          "output_type": "execute_result",
          "data": {
            "text/html": [
              "<div>\n",
              "<style scoped>\n",
              "    .dataframe tbody tr th:only-of-type {\n",
              "        vertical-align: middle;\n",
              "    }\n",
              "\n",
              "    .dataframe tbody tr th {\n",
              "        vertical-align: top;\n",
              "    }\n",
              "\n",
              "    .dataframe thead th {\n",
              "        text-align: right;\n",
              "    }\n",
              "</style>\n",
              "<table border=\"1\" class=\"dataframe\">\n",
              "  <thead>\n",
              "    <tr style=\"text-align: right;\">\n",
              "      <th></th>\n",
              "      <th>Name</th>\n",
              "      <th>Warm-blooded</th>\n",
              "      <th>Gives Birth</th>\n",
              "      <th>Aquatic Creature</th>\n",
              "      <th>Aerial Creature</th>\n",
              "      <th>Has Legs</th>\n",
              "      <th>Hibernates</th>\n",
              "      <th>Class</th>\n",
              "    </tr>\n",
              "  </thead>\n",
              "  <tbody>\n",
              "    <tr>\n",
              "      <th>0</th>\n",
              "      <td>human</td>\n",
              "      <td>1</td>\n",
              "      <td>1</td>\n",
              "      <td>0</td>\n",
              "      <td>0</td>\n",
              "      <td>1</td>\n",
              "      <td>0</td>\n",
              "      <td>mammals</td>\n",
              "    </tr>\n",
              "    <tr>\n",
              "      <th>1</th>\n",
              "      <td>python</td>\n",
              "      <td>0</td>\n",
              "      <td>0</td>\n",
              "      <td>0</td>\n",
              "      <td>0</td>\n",
              "      <td>0</td>\n",
              "      <td>1</td>\n",
              "      <td>reptiles</td>\n",
              "    </tr>\n",
              "    <tr>\n",
              "      <th>2</th>\n",
              "      <td>salmon</td>\n",
              "      <td>0</td>\n",
              "      <td>0</td>\n",
              "      <td>1</td>\n",
              "      <td>0</td>\n",
              "      <td>0</td>\n",
              "      <td>0</td>\n",
              "      <td>fishes</td>\n",
              "    </tr>\n",
              "    <tr>\n",
              "      <th>3</th>\n",
              "      <td>whale</td>\n",
              "      <td>1</td>\n",
              "      <td>1</td>\n",
              "      <td>1</td>\n",
              "      <td>0</td>\n",
              "      <td>0</td>\n",
              "      <td>0</td>\n",
              "      <td>mammals</td>\n",
              "    </tr>\n",
              "    <tr>\n",
              "      <th>4</th>\n",
              "      <td>frog</td>\n",
              "      <td>0</td>\n",
              "      <td>0</td>\n",
              "      <td>1</td>\n",
              "      <td>0</td>\n",
              "      <td>1</td>\n",
              "      <td>1</td>\n",
              "      <td>amphibians</td>\n",
              "    </tr>\n",
              "    <tr>\n",
              "      <th>5</th>\n",
              "      <td>komodo</td>\n",
              "      <td>0</td>\n",
              "      <td>0</td>\n",
              "      <td>0</td>\n",
              "      <td>0</td>\n",
              "      <td>1</td>\n",
              "      <td>0</td>\n",
              "      <td>reptiles</td>\n",
              "    </tr>\n",
              "    <tr>\n",
              "      <th>6</th>\n",
              "      <td>bat</td>\n",
              "      <td>1</td>\n",
              "      <td>1</td>\n",
              "      <td>0</td>\n",
              "      <td>1</td>\n",
              "      <td>1</td>\n",
              "      <td>1</td>\n",
              "      <td>mammals</td>\n",
              "    </tr>\n",
              "    <tr>\n",
              "      <th>7</th>\n",
              "      <td>pigeon</td>\n",
              "      <td>1</td>\n",
              "      <td>0</td>\n",
              "      <td>0</td>\n",
              "      <td>1</td>\n",
              "      <td>1</td>\n",
              "      <td>0</td>\n",
              "      <td>birds</td>\n",
              "    </tr>\n",
              "    <tr>\n",
              "      <th>8</th>\n",
              "      <td>cat</td>\n",
              "      <td>1</td>\n",
              "      <td>1</td>\n",
              "      <td>0</td>\n",
              "      <td>0</td>\n",
              "      <td>1</td>\n",
              "      <td>0</td>\n",
              "      <td>mammals</td>\n",
              "    </tr>\n",
              "    <tr>\n",
              "      <th>9</th>\n",
              "      <td>leopard shark</td>\n",
              "      <td>0</td>\n",
              "      <td>1</td>\n",
              "      <td>1</td>\n",
              "      <td>0</td>\n",
              "      <td>0</td>\n",
              "      <td>0</td>\n",
              "      <td>fishes</td>\n",
              "    </tr>\n",
              "    <tr>\n",
              "      <th>10</th>\n",
              "      <td>turtle</td>\n",
              "      <td>0</td>\n",
              "      <td>0</td>\n",
              "      <td>1</td>\n",
              "      <td>0</td>\n",
              "      <td>1</td>\n",
              "      <td>0</td>\n",
              "      <td>reptiles</td>\n",
              "    </tr>\n",
              "    <tr>\n",
              "      <th>11</th>\n",
              "      <td>penguin</td>\n",
              "      <td>1</td>\n",
              "      <td>0</td>\n",
              "      <td>1</td>\n",
              "      <td>0</td>\n",
              "      <td>1</td>\n",
              "      <td>0</td>\n",
              "      <td>birds</td>\n",
              "    </tr>\n",
              "    <tr>\n",
              "      <th>12</th>\n",
              "      <td>porcupine</td>\n",
              "      <td>1</td>\n",
              "      <td>1</td>\n",
              "      <td>0</td>\n",
              "      <td>0</td>\n",
              "      <td>1</td>\n",
              "      <td>1</td>\n",
              "      <td>mammals</td>\n",
              "    </tr>\n",
              "    <tr>\n",
              "      <th>13</th>\n",
              "      <td>eel</td>\n",
              "      <td>0</td>\n",
              "      <td>0</td>\n",
              "      <td>1</td>\n",
              "      <td>0</td>\n",
              "      <td>0</td>\n",
              "      <td>0</td>\n",
              "      <td>fishes</td>\n",
              "    </tr>\n",
              "    <tr>\n",
              "      <th>14</th>\n",
              "      <td>salamander</td>\n",
              "      <td>0</td>\n",
              "      <td>0</td>\n",
              "      <td>1</td>\n",
              "      <td>0</td>\n",
              "      <td>1</td>\n",
              "      <td>1</td>\n",
              "      <td>amphibians</td>\n",
              "    </tr>\n",
              "  </tbody>\n",
              "</table>\n",
              "</div>"
            ],
            "text/plain": [
              "             Name  Warm-blooded  Gives Birth  ...  Has Legs  Hibernates       Class\n",
              "0           human             1            1  ...         1           0     mammals\n",
              "1          python             0            0  ...         0           1    reptiles\n",
              "2          salmon             0            0  ...         0           0      fishes\n",
              "3           whale             1            1  ...         0           0     mammals\n",
              "4            frog             0            0  ...         1           1  amphibians\n",
              "5          komodo             0            0  ...         1           0    reptiles\n",
              "6             bat             1            1  ...         1           1     mammals\n",
              "7          pigeon             1            0  ...         1           0       birds\n",
              "8             cat             1            1  ...         1           0     mammals\n",
              "9   leopard shark             0            1  ...         0           0      fishes\n",
              "10         turtle             0            0  ...         1           0    reptiles\n",
              "11        penguin             1            0  ...         1           0       birds\n",
              "12      porcupine             1            1  ...         1           1     mammals\n",
              "13            eel             0            0  ...         0           0      fishes\n",
              "14     salamander             0            0  ...         1           1  amphibians\n",
              "\n",
              "[15 rows x 8 columns]"
            ]
          },
          "metadata": {},
          "execution_count": 1
        }
      ]
    },
    {
      "cell_type": "markdown",
      "metadata": {
        "id": "5lTnubts9y12"
      },
      "source": [
        "Given the limited number of training examples, suppose we convert the problem into a binary classification task (mammals versus non-mammals). We can do so by replacing the class labels of the instances to *non-mammals* except for those that belong to the *mammals* class."
      ]
    },
    {
      "cell_type": "code",
      "metadata": {
        "colab": {
          "base_uri": "https://localhost:8080/",
          "height": 515
        },
        "id": "pViqWzuH9y12",
        "outputId": "964dd28b-19b9-4888-fe84-7672d2a210ba"
      },
      "source": [
        "data['Class'] = data['Class'].replace(['fishes','birds','amphibians','reptiles'],'non-mammals')\n",
        "data"
      ],
      "execution_count": 2,
      "outputs": [
        {
          "output_type": "execute_result",
          "data": {
            "text/html": [
              "<div>\n",
              "<style scoped>\n",
              "    .dataframe tbody tr th:only-of-type {\n",
              "        vertical-align: middle;\n",
              "    }\n",
              "\n",
              "    .dataframe tbody tr th {\n",
              "        vertical-align: top;\n",
              "    }\n",
              "\n",
              "    .dataframe thead th {\n",
              "        text-align: right;\n",
              "    }\n",
              "</style>\n",
              "<table border=\"1\" class=\"dataframe\">\n",
              "  <thead>\n",
              "    <tr style=\"text-align: right;\">\n",
              "      <th></th>\n",
              "      <th>Name</th>\n",
              "      <th>Warm-blooded</th>\n",
              "      <th>Gives Birth</th>\n",
              "      <th>Aquatic Creature</th>\n",
              "      <th>Aerial Creature</th>\n",
              "      <th>Has Legs</th>\n",
              "      <th>Hibernates</th>\n",
              "      <th>Class</th>\n",
              "    </tr>\n",
              "  </thead>\n",
              "  <tbody>\n",
              "    <tr>\n",
              "      <th>0</th>\n",
              "      <td>human</td>\n",
              "      <td>1</td>\n",
              "      <td>1</td>\n",
              "      <td>0</td>\n",
              "      <td>0</td>\n",
              "      <td>1</td>\n",
              "      <td>0</td>\n",
              "      <td>mammals</td>\n",
              "    </tr>\n",
              "    <tr>\n",
              "      <th>1</th>\n",
              "      <td>python</td>\n",
              "      <td>0</td>\n",
              "      <td>0</td>\n",
              "      <td>0</td>\n",
              "      <td>0</td>\n",
              "      <td>0</td>\n",
              "      <td>1</td>\n",
              "      <td>non-mammals</td>\n",
              "    </tr>\n",
              "    <tr>\n",
              "      <th>2</th>\n",
              "      <td>salmon</td>\n",
              "      <td>0</td>\n",
              "      <td>0</td>\n",
              "      <td>1</td>\n",
              "      <td>0</td>\n",
              "      <td>0</td>\n",
              "      <td>0</td>\n",
              "      <td>non-mammals</td>\n",
              "    </tr>\n",
              "    <tr>\n",
              "      <th>3</th>\n",
              "      <td>whale</td>\n",
              "      <td>1</td>\n",
              "      <td>1</td>\n",
              "      <td>1</td>\n",
              "      <td>0</td>\n",
              "      <td>0</td>\n",
              "      <td>0</td>\n",
              "      <td>mammals</td>\n",
              "    </tr>\n",
              "    <tr>\n",
              "      <th>4</th>\n",
              "      <td>frog</td>\n",
              "      <td>0</td>\n",
              "      <td>0</td>\n",
              "      <td>1</td>\n",
              "      <td>0</td>\n",
              "      <td>1</td>\n",
              "      <td>1</td>\n",
              "      <td>non-mammals</td>\n",
              "    </tr>\n",
              "    <tr>\n",
              "      <th>5</th>\n",
              "      <td>komodo</td>\n",
              "      <td>0</td>\n",
              "      <td>0</td>\n",
              "      <td>0</td>\n",
              "      <td>0</td>\n",
              "      <td>1</td>\n",
              "      <td>0</td>\n",
              "      <td>non-mammals</td>\n",
              "    </tr>\n",
              "    <tr>\n",
              "      <th>6</th>\n",
              "      <td>bat</td>\n",
              "      <td>1</td>\n",
              "      <td>1</td>\n",
              "      <td>0</td>\n",
              "      <td>1</td>\n",
              "      <td>1</td>\n",
              "      <td>1</td>\n",
              "      <td>mammals</td>\n",
              "    </tr>\n",
              "    <tr>\n",
              "      <th>7</th>\n",
              "      <td>pigeon</td>\n",
              "      <td>1</td>\n",
              "      <td>0</td>\n",
              "      <td>0</td>\n",
              "      <td>1</td>\n",
              "      <td>1</td>\n",
              "      <td>0</td>\n",
              "      <td>non-mammals</td>\n",
              "    </tr>\n",
              "    <tr>\n",
              "      <th>8</th>\n",
              "      <td>cat</td>\n",
              "      <td>1</td>\n",
              "      <td>1</td>\n",
              "      <td>0</td>\n",
              "      <td>0</td>\n",
              "      <td>1</td>\n",
              "      <td>0</td>\n",
              "      <td>mammals</td>\n",
              "    </tr>\n",
              "    <tr>\n",
              "      <th>9</th>\n",
              "      <td>leopard shark</td>\n",
              "      <td>0</td>\n",
              "      <td>1</td>\n",
              "      <td>1</td>\n",
              "      <td>0</td>\n",
              "      <td>0</td>\n",
              "      <td>0</td>\n",
              "      <td>non-mammals</td>\n",
              "    </tr>\n",
              "    <tr>\n",
              "      <th>10</th>\n",
              "      <td>turtle</td>\n",
              "      <td>0</td>\n",
              "      <td>0</td>\n",
              "      <td>1</td>\n",
              "      <td>0</td>\n",
              "      <td>1</td>\n",
              "      <td>0</td>\n",
              "      <td>non-mammals</td>\n",
              "    </tr>\n",
              "    <tr>\n",
              "      <th>11</th>\n",
              "      <td>penguin</td>\n",
              "      <td>1</td>\n",
              "      <td>0</td>\n",
              "      <td>1</td>\n",
              "      <td>0</td>\n",
              "      <td>1</td>\n",
              "      <td>0</td>\n",
              "      <td>non-mammals</td>\n",
              "    </tr>\n",
              "    <tr>\n",
              "      <th>12</th>\n",
              "      <td>porcupine</td>\n",
              "      <td>1</td>\n",
              "      <td>1</td>\n",
              "      <td>0</td>\n",
              "      <td>0</td>\n",
              "      <td>1</td>\n",
              "      <td>1</td>\n",
              "      <td>mammals</td>\n",
              "    </tr>\n",
              "    <tr>\n",
              "      <th>13</th>\n",
              "      <td>eel</td>\n",
              "      <td>0</td>\n",
              "      <td>0</td>\n",
              "      <td>1</td>\n",
              "      <td>0</td>\n",
              "      <td>0</td>\n",
              "      <td>0</td>\n",
              "      <td>non-mammals</td>\n",
              "    </tr>\n",
              "    <tr>\n",
              "      <th>14</th>\n",
              "      <td>salamander</td>\n",
              "      <td>0</td>\n",
              "      <td>0</td>\n",
              "      <td>1</td>\n",
              "      <td>0</td>\n",
              "      <td>1</td>\n",
              "      <td>1</td>\n",
              "      <td>non-mammals</td>\n",
              "    </tr>\n",
              "  </tbody>\n",
              "</table>\n",
              "</div>"
            ],
            "text/plain": [
              "             Name  Warm-blooded  Gives Birth  ...  Has Legs  Hibernates        Class\n",
              "0           human             1            1  ...         1           0      mammals\n",
              "1          python             0            0  ...         0           1  non-mammals\n",
              "2          salmon             0            0  ...         0           0  non-mammals\n",
              "3           whale             1            1  ...         0           0      mammals\n",
              "4            frog             0            0  ...         1           1  non-mammals\n",
              "5          komodo             0            0  ...         1           0  non-mammals\n",
              "6             bat             1            1  ...         1           1      mammals\n",
              "7          pigeon             1            0  ...         1           0  non-mammals\n",
              "8             cat             1            1  ...         1           0      mammals\n",
              "9   leopard shark             0            1  ...         0           0  non-mammals\n",
              "10         turtle             0            0  ...         1           0  non-mammals\n",
              "11        penguin             1            0  ...         1           0  non-mammals\n",
              "12      porcupine             1            1  ...         1           1      mammals\n",
              "13            eel             0            0  ...         0           0  non-mammals\n",
              "14     salamander             0            0  ...         1           1  non-mammals\n",
              "\n",
              "[15 rows x 8 columns]"
            ]
          },
          "metadata": {},
          "execution_count": 2
        }
      ]
    },
    {
      "cell_type": "markdown",
      "metadata": {
        "id": "3g6M_vyi9y13"
      },
      "source": [
        "We can apply Pandas cross-tabulation to examine the relationship between the Warm-blooded and Gives Birth attributes with respect to the class. "
      ]
    },
    {
      "cell_type": "code",
      "metadata": {
        "colab": {
          "base_uri": "https://localhost:8080/",
          "height": 204
        },
        "id": "UPorv0YM9y13",
        "outputId": "c9654fb4-3574-46ff-ce55-a3d198ed2c92"
      },
      "source": [
        "pd.crosstab([data['Warm-blooded'],data['Gives Birth']],data['Class'])"
      ],
      "execution_count": 3,
      "outputs": [
        {
          "output_type": "execute_result",
          "data": {
            "text/html": [
              "<div>\n",
              "<style scoped>\n",
              "    .dataframe tbody tr th:only-of-type {\n",
              "        vertical-align: middle;\n",
              "    }\n",
              "\n",
              "    .dataframe tbody tr th {\n",
              "        vertical-align: top;\n",
              "    }\n",
              "\n",
              "    .dataframe thead th {\n",
              "        text-align: right;\n",
              "    }\n",
              "</style>\n",
              "<table border=\"1\" class=\"dataframe\">\n",
              "  <thead>\n",
              "    <tr style=\"text-align: right;\">\n",
              "      <th></th>\n",
              "      <th>Class</th>\n",
              "      <th>mammals</th>\n",
              "      <th>non-mammals</th>\n",
              "    </tr>\n",
              "    <tr>\n",
              "      <th>Warm-blooded</th>\n",
              "      <th>Gives Birth</th>\n",
              "      <th></th>\n",
              "      <th></th>\n",
              "    </tr>\n",
              "  </thead>\n",
              "  <tbody>\n",
              "    <tr>\n",
              "      <th rowspan=\"2\" valign=\"top\">0</th>\n",
              "      <th>0</th>\n",
              "      <td>0</td>\n",
              "      <td>7</td>\n",
              "    </tr>\n",
              "    <tr>\n",
              "      <th>1</th>\n",
              "      <td>0</td>\n",
              "      <td>1</td>\n",
              "    </tr>\n",
              "    <tr>\n",
              "      <th rowspan=\"2\" valign=\"top\">1</th>\n",
              "      <th>0</th>\n",
              "      <td>0</td>\n",
              "      <td>2</td>\n",
              "    </tr>\n",
              "    <tr>\n",
              "      <th>1</th>\n",
              "      <td>5</td>\n",
              "      <td>0</td>\n",
              "    </tr>\n",
              "  </tbody>\n",
              "</table>\n",
              "</div>"
            ],
            "text/plain": [
              "Class                     mammals  non-mammals\n",
              "Warm-blooded Gives Birth                      \n",
              "0            0                  0            7\n",
              "             1                  0            1\n",
              "1            0                  0            2\n",
              "             1                  5            0"
            ]
          },
          "metadata": {},
          "execution_count": 3
        }
      ]
    },
    {
      "cell_type": "markdown",
      "metadata": {
        "id": "jEWfxTHo9y13"
      },
      "source": [
        "The results above show that it is possible to distinguish mammals from non-mammals using these two attributes alone since each combination of their attribute values would yield only instances that belong to the same class. For example, mammals can be identified as warm-blooded vertebrates that give birth to their young. Such a relationship can also be derived using a decision tree classifier, as shown by the example given in the next subsection."
      ]
    },
    {
      "cell_type": "markdown",
      "metadata": {
        "id": "GcvVHNJk9y14"
      },
      "source": [
        "## 5.2 Decision Tree Classifier\n",
        "\n",
        "In this section, we apply a decision tree classifier to the vertebrate dataset described in the previous subsection."
      ]
    },
    {
      "cell_type": "code",
      "metadata": {
        "id": "qge8lhMk9y14"
      },
      "source": [
        "from sklearn import tree\n",
        "\n",
        "Y = data['Class']\n",
        "X = data.drop(['Name','Class'],axis=1)\n",
        "\n",
        "clf = tree.DecisionTreeClassifier(criterion='entropy',max_depth=3)\n",
        "clf = clf.fit(X, Y) # build the model"
      ],
      "execution_count": 4,
      "outputs": []
    },
    {
      "cell_type": "markdown",
      "metadata": {
        "id": "7ChcSVD79y15"
      },
      "source": [
        "The preceding commands will extract the predictor (X) and target class (Y) attributes from the vertebrate dataset and create a decision tree classifier object using entropy as its impurity measure for splitting criterion. The decision tree class in Python sklearn library also supports using 'gini' as impurity measure. The classifier above is also constrained to generate trees with a maximum depth equals to 3. Next, the classifier is trained on the labeled data using the fit() function. \n",
        "\n",
        "We can plot the resulting decision tree obtained after training the classifier. To do this, you must first install both graphviz (http://www.graphviz.org) and its Python interface called pydotplus (http://pydotplus.readthedocs.io/)."
      ]
    },
    {
      "cell_type": "code",
      "metadata": {
        "colab": {
          "base_uri": "https://localhost:8080/",
          "height": 436
        },
        "id": "1bu3CEz39y15",
        "outputId": "aec7d955-730e-4453-a185-b4cff600c9e3"
      },
      "source": [
        "import pydotplus \n",
        "from IPython.display import Image\n",
        "\n",
        "dot_data = tree.export_graphviz(clf, feature_names=X.columns, class_names=['mammals','non-mammals'], filled=True, \n",
        "                                out_file=None) # generates a GraphViz representation of the decision tree\n",
        "graph = pydotplus.graph_from_dot_data(dot_data) \n",
        "Image(graph.create_png())"
      ],
      "execution_count": 5,
      "outputs": [
        {
          "output_type": "execute_result",
          "data": {
            "image/png": "[encoded data removed]",
            "text/plain": [
              "<IPython.core.display.Image object>"
            ]
          },
          "metadata": {},
          "execution_count": 5
        }
      ]
    },
    {
      "cell_type": "markdown",
      "metadata": {
        "id": "scSecO4N9y16"
      },
      "source": [
        "Next, suppose we apply the decision tree to classify the following test examples."
      ]
    },
    {
      "cell_type": "code",
      "metadata": {
        "colab": {
          "base_uri": "https://localhost:8080/",
          "height": 173
        },
        "id": "hDzN6nAM9y16",
        "outputId": "80fef3e7-3518-43f3-8ff7-0a4402f622b1"
      },
      "source": [
        "testData = [['gila monster',0,0,0,0,1,1,'non-mammals'],\n",
        "           ['platypus',1,0,0,0,1,1,'mammals'],\n",
        "           ['owl',1,0,0,1,1,0,'non-mammals'],\n",
        "           ['dolphin',1,1,1,0,0,0,'mammals']]\n",
        "testData = pd.DataFrame(testData, columns=data.columns)\n",
        "testData"
      ],
      "execution_count": 6,
      "outputs": [
        {
          "output_type": "execute_result",
          "data": {
            "text/html": [
              "<div>\n",
              "<style scoped>\n",
              "    .dataframe tbody tr th:only-of-type {\n",
              "        vertical-align: middle;\n",
              "    }\n",
              "\n",
              "    .dataframe tbody tr th {\n",
              "        vertical-align: top;\n",
              "    }\n",
              "\n",
              "    .dataframe thead th {\n",
              "        text-align: right;\n",
              "    }\n",
              "</style>\n",
              "<table border=\"1\" class=\"dataframe\">\n",
              "  <thead>\n",
              "    <tr style=\"text-align: right;\">\n",
              "      <th></th>\n",
              "      <th>Name</th>\n",
              "      <th>Warm-blooded</th>\n",
              "      <th>Gives Birth</th>\n",
              "      <th>Aquatic Creature</th>\n",
              "      <th>Aerial Creature</th>\n",
              "      <th>Has Legs</th>\n",
              "      <th>Hibernates</th>\n",
              "      <th>Class</th>\n",
              "    </tr>\n",
              "  </thead>\n",
              "  <tbody>\n",
              "    <tr>\n",
              "      <th>0</th>\n",
              "      <td>gila monster</td>\n",
              "      <td>0</td>\n",
              "      <td>0</td>\n",
              "      <td>0</td>\n",
              "      <td>0</td>\n",
              "      <td>1</td>\n",
              "      <td>1</td>\n",
              "      <td>non-mammals</td>\n",
              "    </tr>\n",
              "    <tr>\n",
              "      <th>1</th>\n",
              "      <td>platypus</td>\n",
              "      <td>1</td>\n",
              "      <td>0</td>\n",
              "      <td>0</td>\n",
              "      <td>0</td>\n",
              "      <td>1</td>\n",
              "      <td>1</td>\n",
              "      <td>mammals</td>\n",
              "    </tr>\n",
              "    <tr>\n",
              "      <th>2</th>\n",
              "      <td>owl</td>\n",
              "      <td>1</td>\n",
              "      <td>0</td>\n",
              "      <td>0</td>\n",
              "      <td>1</td>\n",
              "      <td>1</td>\n",
              "      <td>0</td>\n",
              "      <td>non-mammals</td>\n",
              "    </tr>\n",
              "    <tr>\n",
              "      <th>3</th>\n",
              "      <td>dolphin</td>\n",
              "      <td>1</td>\n",
              "      <td>1</td>\n",
              "      <td>1</td>\n",
              "      <td>0</td>\n",
              "      <td>0</td>\n",
              "      <td>0</td>\n",
              "      <td>mammals</td>\n",
              "    </tr>\n",
              "  </tbody>\n",
              "</table>\n",
              "</div>"
            ],
            "text/plain": [
              "           Name  Warm-blooded  Gives Birth  ...  Has Legs  Hibernates        Class\n",
              "0  gila monster             0            0  ...         1           1  non-mammals\n",
              "1      platypus             1            0  ...         1           1      mammals\n",
              "2           owl             1            0  ...         1           0  non-mammals\n",
              "3       dolphin             1            1  ...         0           0      mammals\n",
              "\n",
              "[4 rows x 8 columns]"
            ]
          },
          "metadata": {},
          "execution_count": 6
        }
      ]
    },
    {
      "cell_type": "markdown",
      "metadata": {
        "id": "j4bHEUVl9y16"
      },
      "source": [
        "We first extract the predictor and target class attributes from the test data and then apply the decision tree classifier to predict their classes."
      ]
    },
    {
      "cell_type": "code",
      "metadata": {
        "colab": {
          "base_uri": "https://localhost:8080/",
          "height": 173
        },
        "id": "KNofH-hU9y16",
        "outputId": "0fcfebae-b584-4f7d-a2a0-1365af170f77"
      },
      "source": [
        "testY = testData['Class']\n",
        "testX = testData.drop(['Name','Class'],axis=1)\n",
        "\n",
        "predY = clf.predict(testX)\n",
        "predictions = pd.concat([testData['Name'],pd.Series(predY,name='Predicted Class')], axis=1)\n",
        "predictions"
      ],
      "execution_count": 7,
      "outputs": [
        {
          "output_type": "execute_result",
          "data": {
            "text/html": [
              "<div>\n",
              "<style scoped>\n",
              "    .dataframe tbody tr th:only-of-type {\n",
              "        vertical-align: middle;\n",
              "    }\n",
              "\n",
              "    .dataframe tbody tr th {\n",
              "        vertical-align: top;\n",
              "    }\n",
              "\n",
              "    .dataframe thead th {\n",
              "        text-align: right;\n",
              "    }\n",
              "</style>\n",
              "<table border=\"1\" class=\"dataframe\">\n",
              "  <thead>\n",
              "    <tr style=\"text-align: right;\">\n",
              "      <th></th>\n",
              "      <th>Name</th>\n",
              "      <th>Predicted Class</th>\n",
              "    </tr>\n",
              "  </thead>\n",
              "  <tbody>\n",
              "    <tr>\n",
              "      <th>0</th>\n",
              "      <td>gila monster</td>\n",
              "      <td>non-mammals</td>\n",
              "    </tr>\n",
              "    <tr>\n",
              "      <th>1</th>\n",
              "      <td>platypus</td>\n",
              "      <td>non-mammals</td>\n",
              "    </tr>\n",
              "    <tr>\n",
              "      <th>2</th>\n",
              "      <td>owl</td>\n",
              "      <td>non-mammals</td>\n",
              "    </tr>\n",
              "    <tr>\n",
              "      <th>3</th>\n",
              "      <td>dolphin</td>\n",
              "      <td>mammals</td>\n",
              "    </tr>\n",
              "  </tbody>\n",
              "</table>\n",
              "</div>"
            ],
            "text/plain": [
              "           Name Predicted Class\n",
              "0  gila monster     non-mammals\n",
              "1      platypus     non-mammals\n",
              "2           owl     non-mammals\n",
              "3       dolphin         mammals"
            ]
          },
          "metadata": {},
          "execution_count": 7
        }
      ]
    },
    {
      "cell_type": "markdown",
      "metadata": {
        "id": "VuxLA-AP9y17"
      },
      "source": [
        "Except for platypus, which is an egg-laying mammal, the classifier correctly predicts the class label of the test examples. We can calculate the accuracy of the classifier on the test data as shown by the example given below."
      ]
    },
    {
      "cell_type": "code",
      "metadata": {
        "colab": {
          "base_uri": "https://localhost:8080/"
        },
        "id": "9EJNY4rj9y17",
        "outputId": "2a73e7c2-6ac2-4bc2-9a19-9175c3092c31"
      },
      "source": [
        "from sklearn.metrics import accuracy_score\n",
        "\n",
        "print('Accuracy on test data is %.2f' % (accuracy_score(testY, predY)))"
      ],
      "execution_count": 15,
      "outputs": [
        {
          "output_type": "stream",
          "name": "stdout",
          "text": [
            "Accuracy on test data is 0.75\n"
          ]
        }
      ]
    },
    {
      "cell_type": "code",
      "metadata": {
        "colab": {
          "base_uri": "https://localhost:8080/"
        },
        "id": "DK1uZlXVkoB7",
        "outputId": "eafade6f-0f70-499a-9108-ba85c1d63bf2"
      },
      "source": [
        "from sklearn.metrics import classification_report\n",
        "print(classification_report(testY, predY)) "
      ],
      "execution_count": 16,
      "outputs": [
        {
          "output_type": "stream",
          "name": "stdout",
          "text": [
            "              precision    recall  f1-score   support\n",
            "\n",
            "     mammals       1.00      0.50      0.67         2\n",
            " non-mammals       0.67      1.00      0.80         2\n",
            "\n",
            "    accuracy                           0.75         4\n",
            "   macro avg       0.83      0.75      0.73         4\n",
            "weighted avg       0.83      0.75      0.73         4\n",
            "\n"
          ]
        }
      ]
    },
    {
      "cell_type": "markdown",
      "metadata": {
        "id": "nTWBnPIF9y18"
      },
      "source": [
        "## 5.3 Model Overfitting\n",
        "\n",
        "To illustrate the problem of model overfitting, we consider a two-dimensional dataset containing 1500 labeled instances, each of which is assigned to one of two classes, 0 or 1. Instances from each class are generated as follows:\n",
        "1. Instances from class 1 are generated from a mixture of 3 Gaussian distributions, centered at [6,14], [10,6], and [14 14], respectively. \n",
        "2. Instances from class 0 are generated from a uniform distribution in a square region, whose sides have a length equals to 20.\n",
        "\n",
        "For simplicity, both classes have equal number of labeled instances. The code for generating and plotting the data is shown below. All instances from class 1 are shown in red while those from class 0 are shown in black."
      ]
    },
    {
      "cell_type": "code",
      "metadata": {
        "colab": {
          "base_uri": "https://localhost:8080/",
          "height": 300
        },
        "id": "klEIYTVb9y18",
        "outputId": "293248ed-5b06-48e7-fe07-5966707bae4d"
      },
      "source": [
        "import numpy as np\n",
        "import matplotlib.pyplot as plt\n",
        "from numpy.random import random\n",
        "\n",
        "%matplotlib inline\n",
        "\n",
        "N = 1500\n",
        "\n",
        "mean1 = [6, 14]\n",
        "mean2 = [10, 6]\n",
        "mean3 = [14, 14]\n",
        "cov = [[3.5, 0], [0, 3.5]]  # diagonal covariance\n",
        "\n",
        "np.random.seed(50)\n",
        "X = np.random.multivariate_normal(mean1, cov, int(N/6))\n",
        "X = np.concatenate((X, np.random.multivariate_normal(mean2, cov, int(N/6))))\n",
        "X = np.concatenate((X, np.random.multivariate_normal(mean3, cov, int(N/6))))\n",
        "X = np.concatenate((X, 20*np.random.rand(int(N/2),2)))\n",
        "Y = np.concatenate((np.ones(int(N/2)),np.zeros(int(N/2))))\n",
        "\n",
        "plt.plot(X[:int(N/2),0],X[:int(N/2),1],'r+',X[int(N/2):,0],X[int(N/2):,1],'k.',ms=4)"
      ],
      "execution_count": 9,
      "outputs": [
        {
          "output_type": "execute_result",
          "data": {
            "text/plain": [
              "[<matplotlib.lines.Line2D at 0x7fc32dd62350>,\n",
              " <matplotlib.lines.Line2D at 0x7fc32dd62110>]"
            ]
          },
          "metadata": {},
          "execution_count": 9
        },
        {
          "output_type": "display_data",
          "data": {
            "image/png": "[encoded data removed]",
            "text/plain": [
              "<Figure size 432x288 with 1 Axes>"
            ]
          },
          "metadata": {
            "needs_background": "light"
          }
        }
      ]
    },
    {
      "cell_type": "markdown",
      "metadata": {
        "id": "g2uC_BEr9y18"
      },
      "source": [
        "In this example, we reserve 80% of the labeled data for training and the remaining 20% for testing. We then fit decision trees of different maximum depths (from 2 to 50) to the training set and plot their respective accuracies when applied to the training and test sets. "
      ]
    },
    {
      "cell_type": "code",
      "metadata": {
        "colab": {
          "base_uri": "https://localhost:8080/",
          "height": 296
        },
        "id": "fVCoZNYJ9y19",
        "outputId": "9d4377e9-0766-4607-c786-db9d7b3d1703"
      },
      "source": [
        "#########################################\n",
        "# Training and Test set creation\n",
        "#########################################\n",
        "\n",
        "from sklearn.model_selection import train_test_split\n",
        "X_train, X_test, Y_train, Y_test = train_test_split(X, Y, test_size=0.2, random_state=1)\n",
        "\n",
        "from sklearn import tree\n",
        "from sklearn.metrics import accuracy_score\n",
        "\n",
        "#########################################\n",
        "# Model fitting and evaluation\n",
        "#########################################\n",
        "\n",
        "maxdepths = [2,3,4,5,6,7,8,9,10,15,20,25,30,35,40,45,50]\n",
        "\n",
        "trainAcc = np.zeros(len(maxdepths))\n",
        "testAcc = np.zeros(len(maxdepths))\n",
        "\n",
        "index = 0\n",
        "for depth in maxdepths:\n",
        "    clf = tree.DecisionTreeClassifier(max_depth=depth)\n",
        "    clf = clf.fit(X_train, Y_train)\n",
        "    Y_predTrain = clf.predict(X_train)\n",
        "    Y_predTest = clf.predict(X_test)\n",
        "    trainAcc[index] = accuracy_score(Y_train, Y_predTrain)\n",
        "    testAcc[index] = accuracy_score(Y_test, Y_predTest)\n",
        "    index += 1\n",
        "    \n",
        "#########################################\n",
        "# Plot of training and test accuracies\n",
        "#########################################\n",
        "    \n",
        "plt.plot(maxdepths,trainAcc,'ro-',maxdepths,testAcc,'bv--')\n",
        "plt.legend(['Training Accuracy','Test Accuracy'])\n",
        "plt.xlabel('Max depth')\n",
        "plt.ylabel('Accuracy')"
      ],
      "execution_count": 11,
      "outputs": [
        {
          "output_type": "execute_result",
          "data": {
            "text/plain": [
              "Text(0, 0.5, 'Accuracy')"
            ]
          },
          "metadata": {},
          "execution_count": 11
        },
        {
          "output_type": "display_data",
          "data": {
            "image/png": "[encoded data removed]",
            "text/plain": [
              "<Figure size 432x288 with 1 Axes>"
            ]
          },
          "metadata": {
            "needs_background": "light"
          }
        }
      ]
    },
    {
      "cell_type": "markdown",
      "metadata": {
        "id": "qs8KxzCv9y19"
      },
      "source": [
        "The plot above shows that training accuracy will continue to improve as the maximum depth of the tree increases (i.e., as the model becomes more complex). However, the test accuracy initially improves up to a maximum depth of 5, before it gradually decreases due to model overfitting."
      ]
    },
    {
      "cell_type": "markdown",
      "metadata": {
        "id": "TAP4S8z69y19"
      },
      "source": [
        "## 5.4 Alternative Classification Techniques\n",
        "\n",
        "Besides decision tree classifier, the Python sklearn library also supports other classification techniques. In this section, we provide examples to illustrate how to apply the k-nearest neighbor classifier and the ensemble methods (boosting, bagging, and random forest) to the 2-dimensional data given in the previous section."
      ]
    },
    {
      "cell_type": "markdown",
      "metadata": {
        "id": "b38xz3T69y1-"
      },
      "source": [
        "### 5.4.1 K-Nearest neighbor classifier\n",
        "\n",
        "In this approach, the class label of a test instance is predicted based on the majority class of its *k* closest training instances. The number of nearest neighbors, *k*, is a hyperparameter that must be provided by the user, along with the distance metric. By default, we can use Euclidean distance (which is equivalent to Minkowski distance with an exponent factor equals to p=2):\n",
        "\n",
        "\\begin{equation*}\n",
        "\\textrm{Minkowski distance}(x,y) = \\bigg[\\sum_{i=1}^N |x_i-y_i|^p \\bigg]^{\\frac{1}{p}}\n",
        "\\end{equation*}"
      ]
    },
    {
      "cell_type": "code",
      "metadata": {
        "colab": {
          "base_uri": "https://localhost:8080/",
          "height": 296
        },
        "id": "2jK9pIY49y1-",
        "outputId": "84d5cdb4-c295-4168-83e2-821203b5940f"
      },
      "source": [
        "from sklearn.neighbors import KNeighborsClassifier\n",
        "import matplotlib.pyplot as plt\n",
        "%matplotlib inline\n",
        "\n",
        "numNeighbors = [1, 5, 10, 15, 20, 25, 30]\n",
        "trainAcc = []\n",
        "testAcc = []\n",
        "\n",
        "for k in numNeighbors:\n",
        "    clf = KNeighborsClassifier(n_neighbors=k, metric='minkowski', p=2)\n",
        "    clf.fit(X_train, Y_train)\n",
        "    Y_predTrain = clf.predict(X_train)\n",
        "    Y_predTest = clf.predict(X_test)\n",
        "    trainAcc.append(accuracy_score(Y_train, Y_predTrain))\n",
        "    testAcc.append(accuracy_score(Y_test, Y_predTest))\n",
        "\n",
        "plt.plot(numNeighbors, trainAcc, 'ro-', numNeighbors, testAcc,'bv--')\n",
        "plt.legend(['Training Accuracy','Test Accuracy'])\n",
        "plt.xlabel('Number of neighbors')\n",
        "plt.ylabel('Accuracy')"
      ],
      "execution_count": 12,
      "outputs": [
        {
          "output_type": "execute_result",
          "data": {
            "text/plain": [
              "Text(0, 0.5, 'Accuracy')"
            ]
          },
          "metadata": {},
          "execution_count": 12
        },
        {
          "output_type": "display_data",
          "data": {
            "image/png": "[encoded data removed]",
            "text/plain": [
              "<Figure size 432x288 with 1 Axes>"
            ]
          },
          "metadata": {
            "needs_background": "light"
          }
        }
      ]
    },
    {
      "cell_type": "markdown",
      "metadata": {
        "id": "LDbWOj699y2A"
      },
      "source": [
        "### 5.4.2 Ensemble Methods\n",
        "\n",
        "An ensemble classifier constructs a set of base classifiers from the training data and performs classification by taking a vote on the predictions made by each base classifier. We consider 3 types of ensemble classifiers in this example: bagging, boosting, and random forest. Detailed explanation about these classifiers can be found in Section 4.10 of the book.\n",
        "\n",
        "In the example below, we fit 500 base classifiers to the 2-dimensional dataset using each ensemble method. The base classifier corresponds to a decision tree with maximum depth equals to 10."
      ]
    },
    {
      "cell_type": "code",
      "metadata": {
        "colab": {
          "base_uri": "https://localhost:8080/",
          "height": 391
        },
        "id": "5Ue2HL869y2A",
        "outputId": "28fbf21f-205f-4832-ad68-22f3661ba055"
      },
      "source": [
        "from sklearn import ensemble\n",
        "from sklearn.tree import DecisionTreeClassifier\n",
        "\n",
        "numBaseClassifiers = 500\n",
        "maxdepth = 10\n",
        "trainAcc = []\n",
        "testAcc = []\n",
        "\n",
        "clf = ensemble.RandomForestClassifier(n_estimators=numBaseClassifiers)\n",
        "clf.fit(X_train, Y_train)\n",
        "Y_predTrain = clf.predict(X_train)\n",
        "Y_predTest = clf.predict(X_test)\n",
        "trainAcc.append(accuracy_score(Y_train, Y_predTrain))\n",
        "testAcc.append(accuracy_score(Y_test, Y_predTest))\n",
        "\n",
        "clf = ensemble.BaggingClassifier(DecisionTreeClassifier(max_depth=maxdepth),n_estimators=numBaseClassifiers)\n",
        "clf.fit(X_train, Y_train)\n",
        "Y_predTrain = clf.predict(X_train)\n",
        "Y_predTest = clf.predict(X_test)\n",
        "trainAcc.append(accuracy_score(Y_train, Y_predTrain))\n",
        "testAcc.append(accuracy_score(Y_test, Y_predTest))\n",
        "\n",
        "clf = ensemble.AdaBoostClassifier(DecisionTreeClassifier(max_depth=maxdepth),n_estimators=numBaseClassifiers)\n",
        "clf.fit(X_train, Y_train)\n",
        "Y_predTrain = clf.predict(X_train)\n",
        "Y_predTest = clf.predict(X_test)\n",
        "trainAcc.append(accuracy_score(Y_train, Y_predTrain))\n",
        "testAcc.append(accuracy_score(Y_test, Y_predTest))\n",
        "\n",
        "methods = ['Random Forest', 'Bagging', 'AdaBoost']\n",
        "fig, (ax1, ax2) = plt.subplots(1, 2, figsize=(12,6))\n",
        "ax1.bar([1.5,2.5,3.5], trainAcc)\n",
        "ax1.set_xticks([1.5,2.5,3.5])\n",
        "ax1.set_xticklabels(methods)\n",
        "ax2.bar([1.5,2.5,3.5], testAcc)\n",
        "ax2.set_xticks([1.5,2.5,3.5])\n",
        "ax2.set_xticklabels(methods)"
      ],
      "execution_count": 13,
      "outputs": [
        {
          "output_type": "execute_result",
          "data": {
            "text/plain": [
              "[Text(0, 0, 'Random Forest'), Text(0, 0, 'Bagging'), Text(0, 0, 'AdaBoost')]"
            ]
          },
          "metadata": {},
          "execution_count": 13
        },
        {
          "output_type": "display_data",
          "data": {
            "image/png": "[encoded data removed]",
            "text/plain": [
              "<Figure size 864x432 with 2 Axes>"
            ]
          },
          "metadata": {
            "needs_background": "light"
          }
        }
      ]
    }
  ]
}